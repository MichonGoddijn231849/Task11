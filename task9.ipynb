{
 "cells": [
  {
   "cell_type": "code",
   "execution_count": 2,
   "metadata": {},
   "outputs": [
    {
     "name": "stdout",
     "output_type": "stream",
     "text": [
      "\n",
      "Final Working Envelope Corners:\n",
      "Corner 1: [-0.1871, -0.1705, 0.1196]\n",
      "Corner 2: [-0.1874, -0.1706, 0.2895]\n",
      "Corner 3: [-0.187, 0.2195, 0.1693]\n",
      "Corner 4: [-0.187, 0.2195, 0.2896]\n",
      "Corner 5: [0.253, -0.1705, 0.1693]\n",
      "Corner 6: [0.253, -0.1708, 0.2896]\n",
      "Corner 7: [0.253, 0.2195, 0.1693]\n",
      "Corner 8: [0.253, 0.2196, 0.2895]\n"
     ]
    }
   ],
   "source": [
    "from sim_class import Simulation\n",
    "\n",
    "# Initialize the simulation\n",
    "sim = Simulation(num_agents=1, render=True)\n",
    "\n",
    "# Define cube limits for the working envelope\n",
    "cube_limits = {'x': [-0.5, 0.5], 'y': [-0.5, 0.5], 'z': [0.0, 0.5]}\n",
    "\n",
    "# Scaling factor\n",
    "velocity_scale = 3.0\n",
    "\n",
    "# Dynamic adjustment scale (increased for faster movement)\n",
    "dynamic_scale = 30.0\n",
    "\n",
    "# List to store corner positions\n",
    "corner_positions = []\n",
    "\n",
    "# Move the pipette to each of the 8 corners of the cube\n",
    "for x in cube_limits['x']:\n",
    "    for y in cube_limits['y']:\n",
    "        for z in cube_limits['z']:\n",
    "            for step in range(50):  # Reduced iteration count for faster execution\n",
    "                state = sim.run([[x * velocity_scale, y * velocity_scale, z * velocity_scale, 0]], num_steps=1)\n",
    "\n",
    "                # Get current pipette position\n",
    "                robot_id_key = list(state.keys())[0]\n",
    "                pipette_position = state[robot_id_key]['pipette_position']\n",
    "\n",
    "                # Adjust dynamically\n",
    "                actions = [[(x - pipette_position[0]) * dynamic_scale,\n",
    "                            (y - pipette_position[1]) * dynamic_scale,\n",
    "                            (z - pipette_position[2]) * dynamic_scale, 0]]\n",
    "                state = sim.run(actions, num_steps=1)\n",
    "\n",
    "                # Stop if close enough\n",
    "                if abs(pipette_position[0] - x) < 0.01 and abs(pipette_position[1] - y) < 0.01 and abs(pipette_position[2] - z) < 0.01:\n",
    "                    break\n",
    "\n",
    "            # Store final position\n",
    "            corner_positions.append(pipette_position)\n",
    "\n",
    "# Log the working envelope\n",
    "print(\"\\nFinal Working Envelope Corners:\")\n",
    "for i, pos in enumerate(corner_positions):\n",
    "    print(f\"Corner {i + 1}: {pos}\")\n",
    "\n",
    "# Clean up simulation\n",
    "sim.close()\n"
   ]
  }
 ],
 "metadata": {
  "kernelspec": {
   "display_name": "robotics1",
   "language": "python",
   "name": "python3"
  },
  "language_info": {
   "codemirror_mode": {
    "name": "ipython",
    "version": 3
   },
   "file_extension": ".py",
   "mimetype": "text/x-python",
   "name": "python",
   "nbconvert_exporter": "python",
   "pygments_lexer": "ipython3",
   "version": "3.9.21"
  }
 },
 "nbformat": 4,
 "nbformat_minor": 2
}
